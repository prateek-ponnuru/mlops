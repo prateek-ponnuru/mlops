{
 "cells": [
  {
   "cell_type": "code",
   "execution_count": 1,
   "id": "25b30460",
   "metadata": {},
   "outputs": [
    {
     "name": "stdout",
     "output_type": "stream",
     "text": [
      "/home/prat/.pyEnvs/tutorial-mlops/bin/python\r\n"
     ]
    }
   ],
   "source": [
    "!which python"
   ]
  },
  {
   "cell_type": "code",
   "execution_count": 1,
   "id": "46faf37b-267a-475f-a58b-7634972cf743",
   "metadata": {},
   "outputs": [],
   "source": [
    "import numpy as np\n",
    "import pandas as pd\n",
    "import matplotlib as mpl\n",
    "import matplotlib.pyplot as plt\n",
    "import seaborn as sns"
   ]
  },
  {
   "cell_type": "markdown",
   "id": "6fb2d3aa-d4b5-40b3-949c-ccb2a454d6f2",
   "metadata": {},
   "source": [
    "## Load the CSV data"
   ]
  },
  {
   "cell_type": "code",
   "execution_count": 3,
   "id": "d6f4762b-97c9-4133-a8f0-cd6326998e35",
   "metadata": {},
   "outputs": [],
   "source": [
    "data = pd.read_csv('data/dataset_train_test.csv', sep=';', decimal=',')"
   ]
  },
  {
   "cell_type": "code",
   "execution_count": 4,
   "id": "646a134e-d27f-4772-ad28-8ca98f54c683",
   "metadata": {},
   "outputs": [
    {
     "data": {
      "text/html": [
       "<div>\n",
       "<style scoped>\n",
       "    .dataframe tbody tr th:only-of-type {\n",
       "        vertical-align: middle;\n",
       "    }\n",
       "\n",
       "    .dataframe tbody tr th {\n",
       "        vertical-align: top;\n",
       "    }\n",
       "\n",
       "    .dataframe thead th {\n",
       "        text-align: right;\n",
       "    }\n",
       "</style>\n",
       "<table border=\"1\" class=\"dataframe\">\n",
       "  <thead>\n",
       "    <tr style=\"text-align: right;\">\n",
       "      <th></th>\n",
       "      <th>Entreprise</th>\n",
       "      <th>Metier</th>\n",
       "      <th>Technologies</th>\n",
       "      <th>Diplome</th>\n",
       "      <th>Experience</th>\n",
       "      <th>Ville</th>\n",
       "    </tr>\n",
       "  </thead>\n",
       "  <tbody>\n",
       "    <tr>\n",
       "      <th>0</th>\n",
       "      <td>Sanofi</td>\n",
       "      <td>Data scientist</td>\n",
       "      <td>Matlab/Python/Pyspark/Scikit-learn/Tensorflow</td>\n",
       "      <td>Master</td>\n",
       "      <td>1.0</td>\n",
       "      <td>Paris</td>\n",
       "    </tr>\n",
       "    <tr>\n",
       "      <th>1</th>\n",
       "      <td>Massachusetts General Hospital(MGH)</td>\n",
       "      <td>Data architecte</td>\n",
       "      <td>Python/Java/Scala/MongoDB</td>\n",
       "      <td>Master</td>\n",
       "      <td>3.0</td>\n",
       "      <td>Marseille</td>\n",
       "    </tr>\n",
       "    <tr>\n",
       "      <th>2</th>\n",
       "      <td>NaN</td>\n",
       "      <td>Lead data scientist</td>\n",
       "      <td>SPSS/SQL/Teradata/R/Python/Tensorflow/scikit-l...</td>\n",
       "      <td>Master</td>\n",
       "      <td>3.0</td>\n",
       "      <td>Nantes</td>\n",
       "    </tr>\n",
       "    <tr>\n",
       "      <th>3</th>\n",
       "      <td>Ann &amp; Robert H. Lurie Children’s Hospital of C...</td>\n",
       "      <td>Data scientist</td>\n",
       "      <td>C/C++/Java/Python</td>\n",
       "      <td>Master</td>\n",
       "      <td>1.5</td>\n",
       "      <td>Marseille</td>\n",
       "    </tr>\n",
       "    <tr>\n",
       "      <th>4</th>\n",
       "      <td>NaN</td>\n",
       "      <td>Data scientist</td>\n",
       "      <td>Matlab/Python/C++/numpy/Tensorflow/scikit-learn</td>\n",
       "      <td>Phd</td>\n",
       "      <td>NaN</td>\n",
       "      <td>Bordeaux</td>\n",
       "    </tr>\n",
       "  </tbody>\n",
       "</table>\n",
       "</div>"
      ],
      "text/plain": [
       "                                          Entreprise               Metier  \\\n",
       "0                                             Sanofi       Data scientist   \n",
       "1                Massachusetts General Hospital(MGH)      Data architecte   \n",
       "2                                                NaN  Lead data scientist   \n",
       "3  Ann & Robert H. Lurie Children’s Hospital of C...       Data scientist   \n",
       "4                                                NaN       Data scientist   \n",
       "\n",
       "                                        Technologies Diplome  Experience  \\\n",
       "0      Matlab/Python/Pyspark/Scikit-learn/Tensorflow  Master         1.0   \n",
       "1                          Python/Java/Scala/MongoDB  Master         3.0   \n",
       "2  SPSS/SQL/Teradata/R/Python/Tensorflow/scikit-l...  Master         3.0   \n",
       "3                                  C/C++/Java/Python  Master         1.5   \n",
       "4    Matlab/Python/C++/numpy/Tensorflow/scikit-learn     Phd         NaN   \n",
       "\n",
       "       Ville  \n",
       "0      Paris  \n",
       "1  Marseille  \n",
       "2     Nantes  \n",
       "3  Marseille  \n",
       "4   Bordeaux  "
      ]
     },
     "execution_count": 4,
     "metadata": {},
     "output_type": "execute_result"
    }
   ],
   "source": [
    "data.head()"
   ]
  },
  {
   "cell_type": "markdown",
   "id": "cd8068aa-1062-4138-99de-b781b55c36ef",
   "metadata": {},
   "source": [
    "## Check datatypes"
   ]
  },
  {
   "cell_type": "code",
   "execution_count": 5,
   "id": "12d972fc-4624-47f3-8795-735b0712a5dd",
   "metadata": {},
   "outputs": [
    {
     "name": "stdout",
     "output_type": "stream",
     "text": [
      "<class 'pandas.core.frame.DataFrame'>\n",
      "RangeIndex: 9562 entries, 0 to 9561\n",
      "Data columns (total 6 columns):\n",
      " #   Column        Non-Null Count  Dtype  \n",
      "---  ------        --------------  -----  \n",
      " 0   Entreprise    7636 non-null   object \n",
      " 1   Metier        9562 non-null   object \n",
      " 2   Technologies  9562 non-null   object \n",
      " 3   Diplome       9562 non-null   object \n",
      " 4   Experience    8531 non-null   float64\n",
      " 5   Ville         9562 non-null   object \n",
      "dtypes: float64(1), object(5)\n",
      "memory usage: 448.3+ KB\n"
     ]
    }
   ],
   "source": [
    "data.info()"
   ]
  },
  {
   "cell_type": "markdown",
   "id": "5b01f996-f00d-4752-9ff7-27de2030af7e",
   "metadata": {},
   "source": [
    "## Check for the presence of NAN"
   ]
  },
  {
   "cell_type": "code",
   "execution_count": 6,
   "id": "e246838b-5d8e-45f6-b29a-46fb67c0a400",
   "metadata": {},
   "outputs": [
    {
     "data": {
      "text/plain": [
       "Entreprise      1926\n",
       "Metier             0\n",
       "Technologies       0\n",
       "Diplome            0\n",
       "Experience      1031\n",
       "Ville              0\n",
       "dtype: int64"
      ]
     },
     "execution_count": 6,
     "metadata": {},
     "output_type": "execute_result"
    }
   ],
   "source": [
    "data.isna().sum()"
   ]
  },
  {
   "cell_type": "markdown",
   "id": "67f37b0e-d59c-421e-a6ff-9818da0c55d5",
   "metadata": {},
   "source": [
    "<div class=\"alert alert-block alert-info\">\n",
    "    <b>Lets know more about the features before deciding what to do with the NANs..</b>\n",
    "</div>"
   ]
  },
  {
   "cell_type": "markdown",
   "id": "11a33bbe-b9bb-47dc-b1f4-f0d4c82c124b",
   "metadata": {},
   "source": [
    "## Check Unique Values"
   ]
  },
  {
   "cell_type": "code",
   "execution_count": 7,
   "id": "eb87376d-2b3f-4c1b-8932-25880a767480",
   "metadata": {},
   "outputs": [
    {
     "data": {
      "text/plain": [
       "array(['Data scientist', 'Data architecte', 'Lead data scientist',\n",
       "       'Data engineer'], dtype=object)"
      ]
     },
     "execution_count": 7,
     "metadata": {},
     "output_type": "execute_result"
    }
   ],
   "source": [
    "data.Metier.unique()"
   ]
  },
  {
   "cell_type": "code",
   "execution_count": 8,
   "id": "d8b99ac0-3b8d-4a32-98a9-1b780883b715",
   "metadata": {},
   "outputs": [
    {
     "data": {
      "text/plain": [
       "array(['Master', 'Phd', 'Bachelor', 'BSc', 'MSc', 'No diploma', 'PhD',\n",
       "       'MASTER', 'master', 'bachelor', 'NO', 'msc', 'Mastere'],\n",
       "      dtype=object)"
      ]
     },
     "execution_count": 8,
     "metadata": {},
     "output_type": "execute_result"
    }
   ],
   "source": [
    "data.Diplome.unique()"
   ]
  },
  {
   "cell_type": "markdown",
   "id": "635e6368-9dd7-4d71-af6f-57c5d8f60f4b",
   "metadata": {},
   "source": [
    "<div class=\"alert alert-block alert-info\">\n",
    "    <b>Lets fix the duplicate values in `Diplome`..</b>\n",
    "</div>"
   ]
  },
  {
   "cell_type": "code",
   "execution_count": 9,
   "id": "14a783a5-fbe4-4cd6-882c-dbe276cd957f",
   "metadata": {},
   "outputs": [],
   "source": [
    "data.loc[data.Diplome == 'PhD', 'Diplome'] = 'Phd'\n",
    "data.loc[data.Diplome == 'NO', 'Diplome'] = 'No diploma'\n",
    "data.loc[data.Diplome.isin(['MASTER', 'MSc', 'Mastere', 'msc', 'master']), 'Diplome'] = 'Master'\n",
    "data.loc[data.Diplome.isin(['bachelor', 'BSc']), 'Diplome'] = 'Bachelor'"
   ]
  },
  {
   "cell_type": "code",
   "execution_count": 10,
   "id": "388b3387-7d2e-48e9-af25-4befed1e2ad2",
   "metadata": {},
   "outputs": [
    {
     "data": {
      "text/plain": [
       "array(['Master', 'Phd', 'Bachelor', 'No diploma'], dtype=object)"
      ]
     },
     "execution_count": 10,
     "metadata": {},
     "output_type": "execute_result"
    }
   ],
   "source": [
    "data.Diplome.unique()"
   ]
  },
  {
   "cell_type": "code",
   "execution_count": 11,
   "id": "c12318e9-5369-4c03-9191-c47c7f75910c",
   "metadata": {},
   "outputs": [
    {
     "data": {
      "text/plain": [
       "array(['Paris', 'Marseille', 'Nantes', 'Bordeaux', 'Lille', 'Toulouse',\n",
       "       'Rouen', 'Lyon', 'Strasbourg', 'Grenoble', 'Nice', 'Toulon',\n",
       "       'Montpellier', 'Rennes'], dtype=object)"
      ]
     },
     "execution_count": 11,
     "metadata": {},
     "output_type": "execute_result"
    }
   ],
   "source": [
    "data.Ville.unique()"
   ]
  },
  {
   "cell_type": "code",
   "execution_count": 12,
   "id": "0eeb0df8-744b-447c-81d3-d4d8daf928df",
   "metadata": {},
   "outputs": [
    {
     "data": {
      "text/plain": [
       "array(['Sanofi', 'Massachusetts General Hospital(MGH)', nan, ...,\n",
       "       'Galvanize', 'Marsh', 'Ra Pharmaceutical'], dtype=object)"
      ]
     },
     "execution_count": 12,
     "metadata": {},
     "output_type": "execute_result"
    }
   ],
   "source": [
    "data.Entreprise.unique()"
   ]
  },
  {
   "cell_type": "code",
   "execution_count": 13,
   "id": "a65b2981-dffb-4924-93bb-0f96ed685348",
   "metadata": {},
   "outputs": [
    {
     "data": {
      "text/plain": [
       "1320"
      ]
     },
     "execution_count": 13,
     "metadata": {},
     "output_type": "execute_result"
    }
   ],
   "source": [
    "data.Entreprise.nunique()"
   ]
  },
  {
   "cell_type": "markdown",
   "id": "2a6513e7-d6bf-4b76-b7a9-20b6f83fb862",
   "metadata": {},
   "source": [
    "## Fixing the NANs"
   ]
  },
  {
   "cell_type": "code",
   "execution_count": 14,
   "id": "c1571c8c-e6f4-4052-9b3a-dede147bce25",
   "metadata": {},
   "outputs": [
    {
     "data": {
      "text/plain": [
       "197"
      ]
     },
     "execution_count": 14,
     "metadata": {},
     "output_type": "execute_result"
    }
   ],
   "source": [
    "# number of records where both `Entreprise` and `Experience` are NAN\n",
    "data[(data.Entreprise.isna()) & (data.Experience.isna())].shape[0]"
   ]
  },
  {
   "cell_type": "code",
   "execution_count": 15,
   "id": "af0b61be-8257-460c-b3eb-ff73c079a22d",
   "metadata": {},
   "outputs": [
    {
     "data": {
      "text/plain": [
       "834"
      ]
     },
     "execution_count": 15,
     "metadata": {},
     "output_type": "execute_result"
    }
   ],
   "source": [
    "# number of records where `Experience` is NAN and `Entreprise` is not\n",
    "# which implies they must have experience..\n",
    "data[(~data.Entreprise.isna()) & (data.Experience.isna())].shape[0]"
   ]
  },
  {
   "cell_type": "code",
   "execution_count": 16,
   "id": "eca1f025-b361-4c58-b712-a201b454289e",
   "metadata": {},
   "outputs": [
    {
     "data": {
      "text/plain": [
       "(1031, 1031)"
      ]
     },
     "execution_count": 16,
     "metadata": {},
     "output_type": "execute_result"
    }
   ],
   "source": [
    "# total NAN in Experience is equal to the sum of the above two?\n",
    "data[(~data.Entreprise.isna()) & (data.Experience.isna())].shape[0] + data[(data.Entreprise.isna()) & (data.Experience.isna())].shape[0], \\\n",
    "data.Experience.isna().sum()"
   ]
  },
  {
   "cell_type": "markdown",
   "id": "1b81c966-6c71-4973-9f9b-b8c634d136d1",
   "metadata": {},
   "source": [
    "<div class=\"alert alert-block alert-info\">\n",
    "    <b>We can use the `Metier` to fill the NAN in experience where we know the profile if of a person currently working</b>\n",
    "</div>"
   ]
  },
  {
   "cell_type": "code",
   "execution_count": 17,
   "id": "12152ebb-6f81-4d13-be8c-6cdd09da65dd",
   "metadata": {},
   "outputs": [
    {
     "data": {
      "text/plain": [
       "{'Data architecte': 2.9949387320191794,\n",
       " 'Data engineer': 2.963747645951036,\n",
       " 'Data scientist': 2.255155387743247,\n",
       " 'Lead data scientist': 3.96688132474701}"
      ]
     },
     "execution_count": 17,
     "metadata": {},
     "output_type": "execute_result"
    }
   ],
   "source": [
    "mean_exp = data.groupby('Metier')['Experience'].mean().to_dict()\n",
    "mean_exp"
   ]
  },
  {
   "cell_type": "code",
   "execution_count": 18,
   "id": "7329fb90-6477-45c5-aa9c-63082c5d12a5",
   "metadata": {},
   "outputs": [
    {
     "data": {
      "text/plain": [
       "{'Data architecte': 3.0,\n",
       " 'Data engineer': 3.0,\n",
       " 'Data scientist': 2.5,\n",
       " 'Lead data scientist': 4.0}"
      ]
     },
     "execution_count": 18,
     "metadata": {},
     "output_type": "execute_result"
    }
   ],
   "source": [
    "for k, v in mean_exp.items():\n",
    "    mean_exp[k] = round(v * 2) / 2\n",
    "mean_exp"
   ]
  },
  {
   "cell_type": "code",
   "execution_count": 19,
   "id": "e882a003-fde5-49ba-86f9-9e1ce9253d60",
   "metadata": {},
   "outputs": [],
   "source": [
    "for k, v in mean_exp.items():\n",
    "    data.loc[(~data.Entreprise.isna()) & (data.Experience.isna()) & (data.Metier == k), 'Experience'] = v"
   ]
  },
  {
   "cell_type": "markdown",
   "id": "818681ab-df13-4a88-bd6d-a50b21aea970",
   "metadata": {},
   "source": [
    "<div class=\"alert alert-block alert-info\">\n",
    "    <b>Lets set the experience to Zero for those that not currently working..</b>\n",
    "</div>"
   ]
  },
  {
   "cell_type": "code",
   "execution_count": 20,
   "id": "1f6da751-68ba-400e-a15f-82c803d444eb",
   "metadata": {},
   "outputs": [],
   "source": [
    "data.loc[(data.Entreprise.isna()) & (data.Experience.isna()), 'Experience'] = 0"
   ]
  },
  {
   "cell_type": "code",
   "execution_count": 21,
   "id": "488605e9-f11a-426e-a1ce-ce591d2c0862",
   "metadata": {},
   "outputs": [
    {
     "data": {
      "text/plain": [
       "Entreprise      1926\n",
       "Metier             0\n",
       "Technologies       0\n",
       "Diplome            0\n",
       "Experience         0\n",
       "Ville              0\n",
       "dtype: int64"
      ]
     },
     "execution_count": 21,
     "metadata": {},
     "output_type": "execute_result"
    }
   ],
   "source": [
    "# confirm all Experience are valid now\n",
    "data.isna().sum()"
   ]
  },
  {
   "cell_type": "code",
   "execution_count": 22,
   "id": "6c107601-f2d1-4789-9d43-86497f44d3a1",
   "metadata": {},
   "outputs": [],
   "source": [
    "# set the NAN in `Entreprise` to UNKNOWN\n",
    "data.loc[data.Entreprise.isna(), 'Entreprise'] = 'UNKNOWN'"
   ]
  },
  {
   "cell_type": "code",
   "execution_count": 23,
   "id": "88508187-1b36-46aa-b652-b228a38288c0",
   "metadata": {},
   "outputs": [
    {
     "data": {
      "text/plain": [
       "Entreprise      0\n",
       "Metier          0\n",
       "Technologies    0\n",
       "Diplome         0\n",
       "Experience      0\n",
       "Ville           0\n",
       "dtype: int64"
      ]
     },
     "execution_count": 23,
     "metadata": {},
     "output_type": "execute_result"
    }
   ],
   "source": [
    "data.isna().sum()"
   ]
  },
  {
   "cell_type": "markdown",
   "id": "4e74ce6e-b02b-4544-b09c-2f864cf08b42",
   "metadata": {},
   "source": [
    "## Distribution of Experience"
   ]
  },
  {
   "cell_type": "code",
   "execution_count": 24,
   "id": "70011119-01cb-43c2-9393-5058240509b7",
   "metadata": {},
   "outputs": [
    {
     "data": {
      "image/png": "[encoded data removed]",
      "text/plain": [
       "<Figure size 1500x500 with 2 Axes>"
      ]
     },
     "metadata": {},
     "output_type": "display_data"
    }
   ],
   "source": [
    "fig = plt.gcf()\n",
    "fig.set_size_inches(15, 5)\n",
    "ax = fig.add_subplot(121)\n",
    "_ = sns.boxplot(data, x='Experience', ax=ax)\n",
    "ax = fig.add_subplot(122)\n",
    "_ = sns.histplot(data.Experience, bins=20, ax=ax)"
   ]
  },
  {
   "cell_type": "markdown",
   "id": "2e390fa3-3567-4514-9136-6b41a10f13e7",
   "metadata": {},
   "source": [
    "## Preparing the `Technologies` feature for sklearn DictVectorizer"
   ]
  },
  {
   "cell_type": "code",
   "execution_count": 25,
   "id": "2a811872-90cb-47ae-ae58-4c245184bdee",
   "metadata": {
    "scrolled": true
   },
   "outputs": [
    {
     "data": {
      "text/plain": [
       "(57,\n",
       " {'',\n",
       "  'ai',\n",
       "  'anglais',\n",
       "  'aws',\n",
       "  'big data',\n",
       "  'c',\n",
       "  'c++',\n",
       "  'cassandra',\n",
       "  'deep learning',\n",
       "  'docker',\n",
       "  'elasticsearch',\n",
       "  'excel',\n",
       "  'gnu',\n",
       "  'hadoop',\n",
       "  'hadoop(hdfs)',\n",
       "  'hbase',\n",
       "  'hdfs',\n",
       "  'hive',\n",
       "  'java',\n",
       "  'kafka',\n",
       "  'kibana',\n",
       "  'linux',\n",
       "  'machine learning',\n",
       "  'map-reduce',\n",
       "  'mariadb',\n",
       "  'matlab',\n",
       "  'matplotlib',\n",
       "  'microsoft azure',\n",
       "  'mongodb',\n",
       "  'mysql',\n",
       "  'nosq',\n",
       "  'nosql',\n",
       "  'numpy',\n",
       "  'oracle',\n",
       "  'perl',\n",
       "  'pig',\n",
       "  'postgresql',\n",
       "  'pycharm',\n",
       "  'pyspark',\n",
       "  'python',\n",
       "  'r',\n",
       "  'redshift',\n",
       "  'ruby',\n",
       "  'sas',\n",
       "  'scala',\n",
       "  'scikit-learn',\n",
       "  'scoring',\n",
       "  'spark',\n",
       "  'spss',\n",
       "  'sql',\n",
       "  'tableau',\n",
       "  'tensorflow',\n",
       "  'teradata',\n",
       "  'vba',\n",
       "  'vertica',\n",
       "  'windows',\n",
       "  'yarn'})"
      ]
     },
     "execution_count": 25,
     "metadata": {},
     "output_type": "execute_result"
    }
   ],
   "source": [
    "# lets check the unique Technologies\n",
    "all_tech = '/'.join(data.Technologies)\n",
    "\n",
    "# using the python `set` to remove duplicates\n",
    "all_tech = set(map(lambda x: x.lower(), all_tech.split('/')))\n",
    "len(all_tech), all_tech"
   ]
  },
  {
   "cell_type": "markdown",
   "id": "2d67b7ce-452d-48dc-91a5-0e69226cc836",
   "metadata": {},
   "source": [
    "<div class=\"alert alert-block alert-info\">\n",
    "    <b>We can see issues like `nosq` and `nosql`, `''`, `hadoop`, `hadoop(hdfs)`, `hdfs`</b>\n",
    "</div>"
   ]
  },
  {
   "cell_type": "code",
   "execution_count": 26,
   "id": "ec08d6ad-a37d-4921-9362-e3d23c0d3c05",
   "metadata": {},
   "outputs": [],
   "source": [
    "data['Technologies'] = data['Technologies'].str.lower()\n",
    "\n",
    "# fixing `''`\n",
    "data.loc[data['Technologies'].str.contains('//'), 'Technologies'] = data['Technologies'].str.replace('//', '/', regex=False)\n",
    "\n",
    "# fixing `nosq`\n",
    "data.loc[data['Technologies'].str.contains('/nosq/'), 'Technologies'] = data['Technologies'].str.replace('/nosq/', '/nosql/', regex=False)"
   ]
  },
  {
   "cell_type": "code",
   "execution_count": 27,
   "id": "aaad473d-228b-4cd5-bd89-e0f94950878b",
   "metadata": {},
   "outputs": [],
   "source": [
    "# creating synonyms to replace\n",
    "\n",
    "synonyms = {'hadoop(hdfs)': 'hadoop', \n",
    "            'hdfs': 'hadoop'} \n",
    "\n",
    "for syn, parent in synonyms.items():\n",
    "    data.loc[data['Technologies'].str.contains(syn, regex=False), 'Technologies'] = data['Technologies'].str.replace(syn, parent, regex=False)"
   ]
  },
  {
   "cell_type": "code",
   "execution_count": 28,
   "id": "e68ddb9e-70b5-429c-b8ee-8baa40cc9c4c",
   "metadata": {},
   "outputs": [
    {
     "data": {
      "text/html": [
       "<div>\n",
       "<style scoped>\n",
       "    .dataframe tbody tr th:only-of-type {\n",
       "        vertical-align: middle;\n",
       "    }\n",
       "\n",
       "    .dataframe tbody tr th {\n",
       "        vertical-align: top;\n",
       "    }\n",
       "\n",
       "    .dataframe thead th {\n",
       "        text-align: right;\n",
       "    }\n",
       "</style>\n",
       "<table border=\"1\" class=\"dataframe\">\n",
       "  <thead>\n",
       "    <tr style=\"text-align: right;\">\n",
       "      <th></th>\n",
       "      <th>Entreprise</th>\n",
       "      <th>Metier</th>\n",
       "      <th>Technologies</th>\n",
       "      <th>Diplome</th>\n",
       "      <th>Experience</th>\n",
       "      <th>Ville</th>\n",
       "      <th>Techlist</th>\n",
       "    </tr>\n",
       "  </thead>\n",
       "  <tbody>\n",
       "    <tr>\n",
       "      <th>0</th>\n",
       "      <td>Sanofi</td>\n",
       "      <td>Data scientist</td>\n",
       "      <td>matlab/python/pyspark/scikit-learn/tensorflow</td>\n",
       "      <td>Master</td>\n",
       "      <td>1.0</td>\n",
       "      <td>Paris</td>\n",
       "      <td>[matlab, python, pyspark, scikit-learn, tensor...</td>\n",
       "    </tr>\n",
       "    <tr>\n",
       "      <th>1</th>\n",
       "      <td>Massachusetts General Hospital(MGH)</td>\n",
       "      <td>Data architecte</td>\n",
       "      <td>python/java/scala/mongodb</td>\n",
       "      <td>Master</td>\n",
       "      <td>3.0</td>\n",
       "      <td>Marseille</td>\n",
       "      <td>[python, java, scala, mongodb]</td>\n",
       "    </tr>\n",
       "    <tr>\n",
       "      <th>2</th>\n",
       "      <td>UNKNOWN</td>\n",
       "      <td>Lead data scientist</td>\n",
       "      <td>spss/sql/teradata/r/python/tensorflow/scikit-l...</td>\n",
       "      <td>Master</td>\n",
       "      <td>3.0</td>\n",
       "      <td>Nantes</td>\n",
       "      <td>[spss, sql, teradata, r, python, tensorflow, s...</td>\n",
       "    </tr>\n",
       "    <tr>\n",
       "      <th>3</th>\n",
       "      <td>Ann &amp; Robert H. Lurie Children’s Hospital of C...</td>\n",
       "      <td>Data scientist</td>\n",
       "      <td>c/c++/java/python</td>\n",
       "      <td>Master</td>\n",
       "      <td>1.5</td>\n",
       "      <td>Marseille</td>\n",
       "      <td>[c, c++, java, python]</td>\n",
       "    </tr>\n",
       "    <tr>\n",
       "      <th>4</th>\n",
       "      <td>UNKNOWN</td>\n",
       "      <td>Data scientist</td>\n",
       "      <td>matlab/python/c++/numpy/tensorflow/scikit-learn</td>\n",
       "      <td>Phd</td>\n",
       "      <td>0.0</td>\n",
       "      <td>Bordeaux</td>\n",
       "      <td>[matlab, python, c++, numpy, tensorflow, sciki...</td>\n",
       "    </tr>\n",
       "  </tbody>\n",
       "</table>\n",
       "</div>"
      ],
      "text/plain": [
       "                                          Entreprise               Metier  \\\n",
       "0                                             Sanofi       Data scientist   \n",
       "1                Massachusetts General Hospital(MGH)      Data architecte   \n",
       "2                                            UNKNOWN  Lead data scientist   \n",
       "3  Ann & Robert H. Lurie Children’s Hospital of C...       Data scientist   \n",
       "4                                            UNKNOWN       Data scientist   \n",
       "\n",
       "                                        Technologies Diplome  Experience  \\\n",
       "0      matlab/python/pyspark/scikit-learn/tensorflow  Master         1.0   \n",
       "1                          python/java/scala/mongodb  Master         3.0   \n",
       "2  spss/sql/teradata/r/python/tensorflow/scikit-l...  Master         3.0   \n",
       "3                                  c/c++/java/python  Master         1.5   \n",
       "4    matlab/python/c++/numpy/tensorflow/scikit-learn     Phd         0.0   \n",
       "\n",
       "       Ville                                           Techlist  \n",
       "0      Paris  [matlab, python, pyspark, scikit-learn, tensor...  \n",
       "1  Marseille                     [python, java, scala, mongodb]  \n",
       "2     Nantes  [spss, sql, teradata, r, python, tensorflow, s...  \n",
       "3  Marseille                             [c, c++, java, python]  \n",
       "4   Bordeaux  [matlab, python, c++, numpy, tensorflow, sciki...  "
      ]
     },
     "execution_count": 28,
     "metadata": {},
     "output_type": "execute_result"
    }
   ],
   "source": [
    "data['Techlist'] = data.Technologies.apply(lambda x: x.split('/'))\n",
    "data.head()"
   ]
  },
  {
   "cell_type": "code",
   "execution_count": 29,
   "id": "52e5d5b6",
   "metadata": {},
   "outputs": [],
   "source": [
    "data.to_csv('data/data_clean.csv')"
   ]
  },
  {
   "cell_type": "markdown",
   "id": "8baa1d84",
   "metadata": {},
   "source": [
    "## Train Pipeline"
   ]
  },
  {
   "cell_type": "code",
   "execution_count": 2,
   "id": "a134d1cd",
   "metadata": {},
   "outputs": [],
   "source": [
    "from sklearn.pipeline import Pipeline\n",
    "from sklearn.feature_extraction import DictVectorizer\n",
    "from sklearn.model_selection import train_test_split\n",
    "from sklearn.ensemble import RandomForestClassifier\n",
    "\n",
    "import mlflow"
   ]
  },
  {
   "cell_type": "code",
   "execution_count": 14,
   "id": "40e2c40f",
   "metadata": {},
   "outputs": [],
   "source": [
    "def read_data(p = 'data/data_clean.csv'):\n",
    "    \"\"\"\n",
    "    Read the cleaned data from feature engineering step for training.\n",
    "    \"\"\"\n",
    "    \n",
    "    data = pd.read_csv(p)\n",
    "    data['Techlist'] = data.Technologies.apply(lambda x: x.split('/'))\n",
    "    return data"
   ]
  },
  {
   "cell_type": "code",
   "execution_count": 15,
   "id": "aee30501",
   "metadata": {},
   "outputs": [],
   "source": [
    "def get_features(data, features, target):\n",
    "    \"\"\"\n",
    "    Return X and y vectors from dataset.\n",
    "    \"\"\"\n",
    "    X, y = data[features].copy(), data[target].copy()\n",
    "    \n",
    "    return X, y"
   ]
  },
  {
   "cell_type": "code",
   "execution_count": 35,
   "id": "cbde1678",
   "metadata": {},
   "outputs": [],
   "source": [
    "def get_pipeline(model, params=None):\n",
    "    \"\"\"\n",
    "    Given a classifier and params, return a pipeline object.\n",
    "    \"\"\"\n",
    "    params = {} if params is None else params\n",
    "    \n",
    "    return Pipeline([('vectorize', DictVectorizer()),\n",
    "                     ('model', model(**params))])"
   ]
  },
  {
   "cell_type": "code",
   "execution_count": 41,
   "id": "8c2f91d4",
   "metadata": {},
   "outputs": [],
   "source": [
    "def get_confusion_matrix(pred_train, y_train, pred_test, y_test):\n",
    "    from sklearn.metrics import ConfusionMatrixDisplay\n",
    "\n",
    "    fig = plt.figure()\n",
    "    fig.set_size_inches(18, 5)\n",
    "\n",
    "    # Train \n",
    "    ax = fig.add_subplot(121)\n",
    "\n",
    "    ConfusionMatrixDisplay.from_predictions(y_train, pred_train, ax=ax)\n",
    "    ax.xaxis.set_ticklabels(data.Metier.unique(), rotation=45)\n",
    "    ax.yaxis.set_ticklabels(data.Metier.unique())\n",
    "    _ = ax.set_title(\n",
    "        f\"TrainSet Confusion Matrix\"\n",
    "    )\n",
    "\n",
    "    # Test\n",
    "    ax = fig.add_subplot(122)\n",
    "\n",
    "    ConfusionMatrixDisplay.from_predictions(y_test, pred_test, ax=ax)\n",
    "    ax.xaxis.set_ticklabels(data.Metier.unique(), rotation=45)\n",
    "    ax.yaxis.set_ticklabels(data.Metier.unique())\n",
    "    _ = ax.set_title(\n",
    "        f\"TestSet Confusion Matrix\"\n",
    "    )\n",
    "\n",
    "    return fig"
   ]
  },
  {
   "cell_type": "code",
   "execution_count": 102,
   "id": "60c88d50",
   "metadata": {},
   "outputs": [
    {
     "name": "stderr",
     "output_type": "stream",
     "text": [
      "2023/03/26 14:21:24 INFO mlflow.tracking.fluent: Experiment with name 'baseline_newer' does not exist. Creating a new experiment.\n"
     ]
    },
    {
     "name": "stdout",
     "output_type": "stream",
     "text": [
      "Train score: 0.9657471564910446\n",
      "Test score: 0.8797699947726084\n"
     ]
    },
    {
     "data": {
      "image/png": "[encoded data removed]",
      "text/plain": [
       "<Figure size 1800x500 with 4 Axes>"
      ]
     },
     "metadata": {},
     "output_type": "display_data"
    }
   ],
   "source": [
    "data = read_data()\n",
    "X, y = get_features(data, \n",
    "                    features=['Diplome', 'Ville', 'Techlist', 'Experience'], \n",
    "                    target='Metier')\n",
    "\n",
    "mlflow.set_tracking_uri('http://18.157.175.19:5000/')\n",
    "mlflow.set_experiment('baseline_newer')\n",
    "\n",
    "with mlflow.start_run():\n",
    "    \n",
    "    mlflow.log_param('test_size', 0.2)\n",
    "    mlflow.log_param('data_split_r_state', \"121\")\n",
    "    mlflow.log_param('features', ['Diplome', 'Ville', 'Techlist', 'Experience'])\n",
    "    \n",
    "    X_train, X_test, y_train, y_test = train_test_split(X, y, test_size=0.2, random_state=121, shuffle=True)\n",
    "\n",
    "    X_train = X_train.to_dict(orient='records')\n",
    "    X_test = X_test.to_dict(orient='records')\n",
    "\n",
    "    train_pipeline = get_pipeline(RandomForestClassifier)\n",
    "    train_pipeline.fit(X_train, y_train)\n",
    "    trn_preds = train_pipeline.predict(X_train)\n",
    "    tst_preds = train_pipeline.predict(X_test)\n",
    "    \n",
    "    trn_score = train_pipeline.score(X_train, y_train)\n",
    "    tst_score = train_pipeline.score(X_test, y_test)\n",
    "    \n",
    "    mlflow.sklearn.log_model(train_pipeline, artifact_path='models')\n",
    "    mlflow.log_metric(\"train_score\", trn_score)\n",
    "    mlflow.log_metric(\"test_score\", tst_score)\n",
    "\n",
    "    print(f\"Train score: {trn_score}\")\n",
    "    print(f\"Test score: {tst_score}\")\n",
    "\n",
    "    fig = get_confusion_matrix(trn_preds, y_train, tst_preds, y_test)\n",
    "    mlflow.log_figure(fig, artifact_file='confusion_matrix.png')"
   ]
  },
  {
   "cell_type": "markdown",
   "id": "d78f1b2c",
   "metadata": {},
   "source": [
    "## Model Registry"
   ]
  },
  {
   "cell_type": "code",
   "execution_count": 3,
   "id": "7e48904f",
   "metadata": {},
   "outputs": [
    {
     "name": "stdout",
     "output_type": "stream",
     "text": [
      "run id: 367ab3acaf054e98a2cfa5c051a26b40, test score: 0.8798\n"
     ]
    }
   ],
   "source": [
    "from mlflow.tracking import MlflowClient\n",
    "from mlflow.entities import ViewType\n",
    "\n",
    "\n",
    "MLFLOW_TRACKING_URI = \"http://18.157.175.19:5000/\"\n",
    "\n",
    "client = MlflowClient(tracking_uri=MLFLOW_TRACKING_URI)\n",
    "\n",
    "\n",
    "runs = client.search_runs(\n",
    "    experiment_ids=3,\n",
    "    filter_string=\"metrics.test_score > 0.85\",\n",
    "    run_view_type=ViewType.ACTIVE_ONLY,\n",
    "    max_results=5,\n",
    "    order_by=[\"metrics.test DESC\"]\n",
    ")\n",
    "\n",
    "for run in runs:\n",
    "    print(f\"run id: {run.info.run_id}, test score: {run.data.metrics['test_score']:.4f}\")"
   ]
  },
  {
   "cell_type": "code",
   "execution_count": 104,
   "id": "827ae029",
   "metadata": {},
   "outputs": [
    {
     "name": "stderr",
     "output_type": "stream",
     "text": [
      "Registered model 'baseline_rf' already exists. Creating a new version of this model...\n",
      "2023/03/26 14:21:53 INFO mlflow.tracking._model_registry.client: Waiting up to 300 seconds for model version to finish creation.                     Model name: baseline_rf, version 2\n",
      "Created version '2' of model 'baseline_rf'.\n"
     ]
    },
    {
     "data": {
      "text/plain": [
       "<ModelVersion: creation_timestamp=1679833313762, current_stage='None', description='', last_updated_timestamp=1679833313762, name='baseline_rf', run_id='367ab3acaf054e98a2cfa5c051a26b40', run_link='', source='s3://prat-mlops-artifacts/3/367ab3acaf054e98a2cfa5c051a26b40/artifacts/models', status='READY', status_message='', tags={}, user_id='', version='2'>"
      ]
     },
     "execution_count": 104,
     "metadata": {},
     "output_type": "execute_result"
    }
   ],
   "source": [
    "run_id = \"367ab3acaf054e98a2cfa5c051a26b40\"\n",
    "model_uri = f\"runs:/{run_id}/models\"\n",
    "mlflow.register_model(model_uri=model_uri, name=\"baseline_rf\")"
   ]
  },
  {
   "cell_type": "markdown",
   "id": "cdfd9455",
   "metadata": {},
   "source": [
    "### Checking models currently in the registry"
   ]
  },
  {
   "cell_type": "code",
   "execution_count": 105,
   "id": "94ea8f75",
   "metadata": {},
   "outputs": [
    {
     "name": "stdout",
     "output_type": "stream",
     "text": [
      "version: 1, stage: Staging\n",
      "version: 2, stage: None\n"
     ]
    }
   ],
   "source": [
    "model_name = \"baseline_rf\"\n",
    "latest_versions = client.get_latest_versions(name=model_name)\n",
    "\n",
    "for version in latest_versions:\n",
    "    print(f\"version: {version.version}, stage: {version.current_stage}\")"
   ]
  },
  {
   "cell_type": "code",
   "execution_count": 108,
   "id": "ff8dac3f",
   "metadata": {},
   "outputs": [
    {
     "data": {
      "text/plain": [
       "<ModelVersion: creation_timestamp=1679833313762, current_stage='Staging', description='', last_updated_timestamp=1679833342298, name='baseline_rf', run_id='367ab3acaf054e98a2cfa5c051a26b40', run_link='', source='s3://prat-mlops-artifacts/3/367ab3acaf054e98a2cfa5c051a26b40/artifacts/models', status='READY', status_message='', tags={}, user_id='', version='2'>"
      ]
     },
     "execution_count": 108,
     "metadata": {},
     "output_type": "execute_result"
    }
   ],
   "source": [
    "# push the model to staging\n",
    "\n",
    "model_version = 2\n",
    "new_stage = \"Staging\"\n",
    "client.transition_model_version_stage(\n",
    "    name=model_name,\n",
    "    version=model_version,\n",
    "    stage=new_stage,\n",
    "    archive_existing_versions=True\n",
    ")"
   ]
  },
  {
   "cell_type": "code",
   "execution_count": 5,
   "id": "ce77ba6b",
   "metadata": {},
   "outputs": [
    {
     "name": "stdout",
     "output_type": "stream",
     "text": [
      "version: 1, stage: Archived\n",
      "version: 2, stage: Staging\n"
     ]
    }
   ],
   "source": [
    "model_name = \"baseline_rf\"\n",
    "latest_versions = client.get_latest_versions(name=model_name)\n",
    "\n",
    "for version in latest_versions:\n",
    "    print(f\"version: {version.version}, stage: {version.current_stage}\")"
   ]
  },
  {
   "cell_type": "code",
   "execution_count": 7,
   "id": "6a722359",
   "metadata": {},
   "outputs": [],
   "source": [
    "mlflow.set_tracking_uri('http://18.157.175.19:5000/')\n",
    "mlflow.set_experiment('baseline_newer')\n",
    "\n",
    "stage_model = mlflow.sklearn.load_model(f\"models:/{model_name}/Staging\")"
   ]
  },
  {
   "cell_type": "code",
   "execution_count": null,
   "id": "89bd7d85",
   "metadata": {},
   "outputs": [],
   "source": [
    "# model_uri = f\"models:/{model_name}/Staging\"\n",
    "# mlflow models serve -m \"models:/sk-learn-random-forest-reg-model/Production\""
   ]
  },
  {
   "cell_type": "code",
   "execution_count": 25,
   "id": "838dc2d6",
   "metadata": {},
   "outputs": [],
   "source": [
    "data = read_data()"
   ]
  },
  {
   "cell_type": "code",
   "execution_count": 43,
   "id": "d4a118c4",
   "metadata": {},
   "outputs": [
    {
     "data": {
      "text/plain": [
       "'[\"matlab\", \"python\", \"pyspark\", \"scikit-learn\", \"tensorflow\"]'"
      ]
     },
     "execution_count": 43,
     "metadata": {},
     "output_type": "execute_result"
    }
   ],
   "source": [
    "data.Techlist[0].replace(\"'\", '\"')"
   ]
  },
  {
   "cell_type": "code",
   "execution_count": 33,
   "id": "081e71e4",
   "metadata": {},
   "outputs": [
    {
     "data": {
      "text/plain": [
       "['matlab', 'python', 'pyspark', 'scikit-learn', 'tensorflow']"
      ]
     },
     "execution_count": 33,
     "metadata": {},
     "output_type": "execute_result"
    }
   ],
   "source": [
    "import ast\n",
    "ast.literal_eval(\"['matlab', 'python', 'pyspark', 'scikit-learn', 'tensorflow']\")"
   ]
  },
  {
   "cell_type": "code",
   "execution_count": 41,
   "id": "e0118e86",
   "metadata": {},
   "outputs": [
    {
     "data": {
      "text/plain": [
       "['matlab', 'python', 'pyspark', 'scikit-learn', 'tensorflow']"
      ]
     },
     "execution_count": 41,
     "metadata": {},
     "output_type": "execute_result"
    }
   ],
   "source": [
    "import json\n",
    "json.loads('[\"matlab\", \"python\", \"pyspark\", \"scikit-learn\", \"tensorflow\"]')"
   ]
  },
  {
   "cell_type": "code",
   "execution_count": 45,
   "id": "94f9ba1d",
   "metadata": {},
   "outputs": [
    {
     "data": {
      "text/plain": [
       "list"
      ]
     },
     "execution_count": 45,
     "metadata": {},
     "output_type": "execute_result"
    }
   ],
   "source": [
    "json.loads(data.Techlist[0].replace(\"'\", '\"'))"
   ]
  },
  {
   "cell_type": "code",
   "execution_count": null,
   "id": "4134f9dc",
   "metadata": {},
   "outputs": [],
   "source": []
  }
 ],
 "metadata": {
  "kernelspec": {
   "display_name": "Python 3 (ipykernel)",
   "language": "python",
   "name": "python3"
  },
  "language_info": {
   "codemirror_mode": {
    "name": "ipython",
    "version": 3
   },
   "file_extension": ".py",
   "mimetype": "text/x-python",
   "name": "python",
   "nbconvert_exporter": "python",
   "pygments_lexer": "ipython3",
   "version": "3.10.6"
  }
 },
 "nbformat": 4,
 "nbformat_minor": 5
}
